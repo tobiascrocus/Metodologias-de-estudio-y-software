{
  "nbformat": 4,
  "nbformat_minor": 0,
  "metadata": {
    "colab": {
      "provenance": []
    },
    "kernelspec": {
      "name": "python3",
      "display_name": "Python 3"
    },
    "language_info": {
      "name": "python"
    }
  },
  "cells": [
    {
      "cell_type": "markdown",
      "source": [
        "Nombre y Apellido: Tobias Tinaro\n",
        "\n",
        "Fecha de Nacimiento: 28 de Agosto de 1999\n",
        "\n",
        "Ciudad de Recidencia: Capilla Del Monte - Cordoba\n",
        "\n",
        "Correo Electronico: tobiascrocus@hotmail.com\n",
        "\n",
        "Experiencias positivas del ingreso:\n",
        "Me parece que es una muy buena carrera, que tenemos una oportunidad enorme al tenerla en el pueblo. Por otra parte los profesores los vi con mucha disposicion y que parecen ser pacientes con los ingresantes, aparte de que los profesores son agradables y se preocupan de que haya buen ambiente en clases.\n",
        "\n",
        "Obstaculos encontrados:\n",
        "Un obstaculo personal que encontre es que las clases no puedan ser todas hibridas. Entiendo que los profesores necesiten los materiales para transmitir las clases y es un trabajo extra, pero pienso que estaria bueno. No solo para mi que en el momento me encuentro cursando a distancia, sino para todos los alumnos que tienen una PC de escritorio.\n",
        "\n",
        "Metodologías de estudio aplicadas al software y habilidades cognitivas que utilizo para la cursada:\n",
        "\n",
        "Motivacion: Creo que es lo que necesitas para empezar cualquier carrera o proyecto que quieras hacer y es fundamental para el arranque.\n",
        "\n",
        "Aprendizaje: Otro aspecto fundamental seria el aprendizaje que utilizamos tanto para aprender lo teorico o lo practico. El aprendizaje esta muy relacionado a la memoria y la repeticion la cual vamos a emplear para aprender a usar las herramientas que nos den en la carrera.\n",
        "\n",
        "Planificacion: La planificacion es muy importante ya que va a determinar los pasos que podemos seguir para conseguir una meta. Dentro de ella podria agregar que el orden y la organizacion son fundamentales para cumplir al pie de la letra tu plan."
      ],
      "metadata": {
        "id": "yvsT0TPjKjAu"
      }
    }
  ]
}